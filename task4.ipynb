{
 "cells": [
  {
   "cell_type": "code",
   "execution_count": 1,
   "id": "3cbea5b7-3ff7-449c-8078-60b0367927af",
   "metadata": {},
   "outputs": [
    {
     "name": "stderr",
     "output_type": "stream",
     "text": [
      "[nltk_data] Downloading package vader_lexicon to\n",
      "[nltk_data]     C:\\Users\\palla\\AppData\\Roaming\\nltk_data...\n"
     ]
    },
    {
     "name": "stdout",
     "output_type": "stream",
     "text": [
      "Text: I love this product! It's amazing 😍\n",
      "Sentiment: Positive (Score: 0.8516)\n",
      "\n",
      "Text: This is the worst experience ever. So disappointed!\n",
      "Sentiment: Negative (Score: -0.831)\n",
      "\n",
      "Text: It's okay, nothing special but not bad either.\n",
      "Sentiment: Positive (Score: 0.5568)\n",
      "\n",
      "Text: Absolutely fantastic! Best purchase I've made.\n",
      "Sentiment: Positive (Score: 0.8646)\n",
      "\n",
      "Text: I hate it. Waste of money.\n",
      "Sentiment: Negative (Score: -0.7579)\n",
      "\n"
     ]
    }
   ],
   "source": [
    "import nltk\n",
    "from nltk.sentiment import SentimentIntensityAnalyzer\n",
    "\n",
    "# Download VADER lexicon\n",
    "nltk.download('vader_lexicon')\n",
    "\n",
    "# Initialize Sentiment Analyzer\n",
    "sia = SentimentIntensityAnalyzer()\n",
    "\n",
    "# Sample textual data (Tweets/Reviews)\n",
    "texts = [\n",
    "    \"I love this product! It's amazing 😍\",\n",
    "    \"This is the worst experience ever. So disappointed!\",\n",
    "    \"It's okay, nothing special but not bad either.\",\n",
    "    \"Absolutely fantastic! Best purchase I've made.\",\n",
    "    \"I hate it. Waste of money.\"\n",
    "]\n",
    "\n",
    "# Analyze sentiment for each text\n",
    "for text in texts:\n",
    "    sentiment_score = sia.polarity_scores(text)\n",
    "    sentiment = \"Positive\" if sentiment_score['compound'] > 0.05 else \"Negative\" if sentiment_score['compound'] < -0.05 else \"Neutral\"\n",
    "    print(f\"Text: {text}\\nSentiment: {sentiment} (Score: {sentiment_score['compound']})\\n\")\n"
   ]
  },
  {
   "cell_type": "code",
   "execution_count": null,
   "id": "f42fb10a-55b0-444f-b001-7f7e944ef8c0",
   "metadata": {},
   "outputs": [],
   "source": []
  }
 ],
 "metadata": {
  "kernelspec": {
   "display_name": "Python 3 (ipykernel)",
   "language": "python",
   "name": "python3"
  },
  "language_info": {
   "codemirror_mode": {
    "name": "ipython",
    "version": 3
   },
   "file_extension": ".py",
   "mimetype": "text/x-python",
   "name": "python",
   "nbconvert_exporter": "python",
   "pygments_lexer": "ipython3",
   "version": "3.12.4"
  }
 },
 "nbformat": 4,
 "nbformat_minor": 5
}
